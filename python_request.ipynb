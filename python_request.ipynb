{
  "nbformat": 4,
  "nbformat_minor": 0,
  "metadata": {
    "colab": {
      "name": "Friday-test.ipynb",
      "provenance": [],
      "collapsed_sections": []
    },
    "kernelspec": {
      "name": "python3",
      "display_name": "Python 3"
    }
  },
  "cells": [
    {
      "cell_type": "code",
      "metadata": {
        "id": "GymDxRbmVl0n",
        "colab_type": "code",
        "colab": {
          "base_uri": "https://localhost:8080/",
          "height": 146
        },
        "outputId": "97d94c1a-2fba-4b58-b569-99b13ce77008"
      },
      "source": [
        "import re\n",
        "import requests\n",
        "def area_validation(prompt):\n",
        "\n",
        "  while True:\n",
        "    try:\n",
        "      area = int(input(prompt))\n",
        "    except ValueError:\n",
        "      print(\"Sorry, I didn't understand\")\n",
        "      continue\n",
        "    if area > 300:\n",
        "      print(\"Sorry, we do not insure apartments over 300m².\")\n",
        "      continue\n",
        "    else:\n",
        "      break\n",
        "  return area\n",
        "\n",
        "area = area_validation(\"Please enter the area:\\n\")\n",
        "\n",
        "def postal_code_validation(prompt):\n",
        "  while True:\n",
        "    try:\n",
        "      postal_code = (input(prompt))\n",
        "    except ValueError:\n",
        "      print(\"Sorry, I didn't understand\")\n",
        "      continue\n",
        "    if not re.findall(r\"\\b\\d{5}\\b\",postal_code):\n",
        "      print(\"Please enter valid postal code\")\n",
        "    else:\n",
        "      break\n",
        "    \n",
        "  return postal_code\n",
        "\n",
        "postal_code = postal_code_validation(\"Please enter the postal code:\\n\")\n",
        "print(\"postal_code\",postal_code)\n",
        "\n",
        "payload = {'area':area, 'postalCode': postal_code}  \n",
        "r = requests.get('https://fdy2-policycenter-production.k8s.blue.friday-prod.de/rest/friday/hc/price?', params=payload)\n",
        "print(r.text)\n"
      ],
      "execution_count": 5,
      "outputs": [
        {
          "output_type": "stream",
          "text": [
            "Please enter the area:\n",
            "23\n",
            "Please enter the postal code:\n",
            "60306\n",
            "postal_code 60306\n",
            "{\"additionalCoverages\":{\"coverages\":[{\"code\":\"HcAllRiskCov_Fdy\",\"insuredSum\":{\"amount\":14950.0,\"currency\":\"EUR\"},\"optional\":true,\"price\":{\"amount\":1.19,\"currency\":\"EUR\"}},{\"code\":\"HcExtBikeCov_Fdy\",\"insuredSum\":{\"amount\":1000.0,\"currency\":\"EUR\"},\"optional\":true,\"price\":{\"amount\":2.62,\"currency\":\"EUR\"}},{\"code\":\"HcGlassCov_Fdy\",\"insuredSum\":{\"amount\":14950.0,\"currency\":\"EUR\"},\"optional\":true,\"price\":{\"amount\":0.63,\"currency\":\"EUR\"}},{\"code\":\"HcNatHazardCov_Fdy\",\"insuredSum\":{\"amount\":14950.0,\"currency\":\"EUR\"},\"optional\":true,\"price\":{\"amount\":2.52,\"currency\":\"EUR\"}}],\"price\":{\"amount\":6.96,\"currency\":\"EUR\"}},\"basicCoverages\":{\"coverages\":[{\"code\":\"HcBasicCov_Fdy\",\"insuredSum\":{\"amount\":14950.0,\"currency\":\"EUR\"},\"optional\":false,\"price\":{\"amount\":1.79,\"currency\":\"EUR\"},\"priceBeforeDiscounts\":{\"amount\":1.7,\"currency\":\"EUR\"}}],\"price\":{\"amount\":1.79,\"currency\":\"EUR\"},\"priceBeforeDiscounts\":{\"amount\":1.7,\"currency\":\"EUR\"}}}\n"
          ],
          "name": "stdout"
        }
      ]
    }
  ]
}